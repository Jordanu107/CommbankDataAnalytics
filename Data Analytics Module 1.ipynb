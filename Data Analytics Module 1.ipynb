{
 "cells": [
  {
   "cell_type": "code",
   "execution_count": 1,
   "metadata": {},
   "outputs": [],
   "source": [
    "import numpy as np\n",
    "import pandas as pd"
   ]
  },
  {
   "cell_type": "code",
   "execution_count": 16,
   "metadata": {},
   "outputs": [],
   "source": [
    "# Skim read data and get the pulse of the dataset\n",
    "file = 'Using Data Analytics to Build Successful Businesses - Hard.xlsx'\n",
    "data = pd.read_excel(file) #Assumes the dataset within same directory\n",
    "\n",
    "# data.head(10) <- top X rows\n",
    "# data.tail() <- bottom X rows\n",
    "\n",
    "# data.shape <- (46,7)\n",
    "# list(data.columns.values):\n",
    "# ['Customer ID','Age','Age Group','Postcode','Gender',\n",
    "# 'Favourite Cookie','Cookies bought each week']\n",
    "\n",
    "# data.sort_values(['Cookies bought each week'], ascending=False)"
   ]
  },
  {
   "cell_type": "code",
   "execution_count": 32,
   "metadata": {},
   "outputs": [
    {
     "name": "stdout",
     "output_type": "stream",
     "text": [
      "{'Choc chip': 58, 'Macadamia': 71, 'Triple choc': 14, 'Granola': 27, 'Mint': 11, 'Salted caramel': 2}\n",
      "{'60-69': 15, '50-59': 18, '20-29': 37, '30-39': 30, '40-49': 19, '10-19': 64}\n",
      "{'M': 63, 'F': 120}\n",
      "{2000: 55, 2010: 20, 2022: 6, 2873: 6, 2321: 10, 2210: 20, 2030: 6, 2763: 1, 2331: 21, 2344: 20, 2093: 2, 2444: 1, 2332: 1, 2333: 4, 2347: 1, 2001: 1, 2211: 2, 2222: 3, 2019: 3}\n"
     ]
    }
   ],
   "source": [
    "# Find out total amount of cookies bought each week sorted by type of cookie\n",
    "# Find out total amount of cookies bought each week based on various other demographics\n",
    "\n",
    "cookie_demand = {}\n",
    "age_range_cookie_demand = {}\n",
    "gender_cookie_demand = {}\n",
    "location_cookie_demand = {}\n",
    "\n",
    "def find_total_cookies_bought(column_name, data_structure, cookie_column):\n",
    "    for index, row in data.iterrows():\n",
    "        if row[column_name] not in data_structure:\n",
    "            data_structure[row[column_name]] = row[cookie_column]\n",
    "        else:\n",
    "            data_structure[row[column_name]] += row[cookie_column]\n",
    "    return\n",
    "\n",
    "cookies_bought_column = 'Cookies bought each week'\n",
    "\n",
    "find_total_cookies_bought('Favourite Cookie', cookie_demand, cookies_bought_column)\n",
    "find_total_cookies_bought('Age Group', age_range_cookie_demand, cookies_bought_column)\n",
    "find_total_cookies_bought('Postcode', location_cookie_demand, cookies_bought_column)\n",
    "find_total_cookies_bought('Gender', gender_cookie_demand, cookies_bought_column)\n",
    "\n",
    "print(cookie_demand)\n",
    "print(age_range_cookie_demand)\n",
    "print(gender_cookie_demand)\n",
    "print(location_cookie_demand)\n",
    "\n",
    "# for index, row in data.iterrows():\n",
    "#     cookie_type = row['Favourite Cookie']\n",
    "#     if cookie_type not in cookie_demand:\n",
    "#         cookie_demand[cookie_type] = row['Cookies bought each week']\n",
    "#     else:\n",
    "#         cookie_demand[cookie_type] += row['Cookies bought each week']\n",
    "\n",
    "# print(cookie_demand)\n",
    "# OUTPUT: {'Choc chip': 58, 'Macadamia': 71, 'Triple choc': 14, 'Granola': 27, 'Mint': 11, 'Salted caramel': 2}"
   ]
  },
  {
   "cell_type": "code",
   "execution_count": null,
   "metadata": {},
   "outputs": [],
   "source": [
    "\n",
    "    "
   ]
  }
 ],
 "metadata": {
  "kernelspec": {
   "display_name": "Python 3",
   "language": "python",
   "name": "python3"
  },
  "language_info": {
   "codemirror_mode": {
    "name": "ipython",
    "version": 3
   },
   "file_extension": ".py",
   "mimetype": "text/x-python",
   "name": "python",
   "nbconvert_exporter": "python",
   "pygments_lexer": "ipython3",
   "version": "3.6.4"
  }
 },
 "nbformat": 4,
 "nbformat_minor": 2
}
